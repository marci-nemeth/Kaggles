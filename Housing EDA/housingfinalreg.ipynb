{
 "cells": [
  {
   "cell_type": "code",
   "execution_count": 1,
   "id": "4ca2effa",
   "metadata": {
    "_cell_guid": "b1076dfc-b9ad-4769-8c92-a6c4dae69d19",
    "_uuid": "8f2839f25d086af736a60e9eeb907d3b93b6e0e5",
    "execution": {
     "iopub.execute_input": "2023-01-02T18:03:44.335015Z",
     "iopub.status.busy": "2023-01-02T18:03:44.330433Z",
     "iopub.status.idle": "2023-01-02T18:03:51.282600Z",
     "shell.execute_reply": "2023-01-02T18:03:51.281799Z",
     "shell.execute_reply.started": "2022-02-07T16:40:40.375929Z"
    },
    "papermill": {
     "duration": 6.976334,
     "end_time": "2023-01-02T18:03:51.282771",
     "exception": false,
     "start_time": "2023-01-02T18:03:44.306437",
     "status": "completed"
    },
    "tags": []
   },
   "outputs": [],
   "source": [
    "import numpy as np \n",
    "import pandas as pd\n",
    "import seaborn as sns\n",
    "from sklearn.compose import make_column_transformer\n",
    "from sklearn.preprocessing import OrdinalEncoder\n",
    "from sklearn.preprocessing import MinMaxScaler, OneHotEncoder, LabelEncoder\n",
    "from sklearn.model_selection import train_test_split\n",
    "pd.options.mode.chained_assignment = None  # default='warn'\n",
    "import tensorflow as tf\n",
    "from tensorflow.keras import Sequential\n",
    "from tensorflow.keras.layers import Dense\n",
    "from tensorflow.keras.optimizers import Adam\n",
    "from tensorflow.keras import backend as K\n",
    "import os\n",
    "import matplotlib.pyplot as plt\n",
    "import sklearn"
   ]
  },
  {
   "cell_type": "code",
   "execution_count": 2,
   "id": "d88c519a",
   "metadata": {
    "execution": {
     "iopub.execute_input": "2023-01-02T18:03:51.324121Z",
     "iopub.status.busy": "2023-01-02T18:03:51.323184Z",
     "iopub.status.idle": "2023-01-02T18:03:51.395873Z",
     "shell.execute_reply": "2023-01-02T18:03:51.396474Z",
     "shell.execute_reply.started": "2022-02-07T16:40:40.384936Z"
    },
    "papermill": {
     "duration": 0.095308,
     "end_time": "2023-01-02T18:03:51.396660",
     "exception": false,
     "start_time": "2023-01-02T18:03:51.301352",
     "status": "completed"
    },
    "tags": []
   },
   "outputs": [],
   "source": [
    "train_df = pd.read_csv(\"/kaggle/input/house-prices-advanced-regression-techniques/train.csv\")\n",
    "test_df = pd.read_csv(\"/kaggle/input/house-prices-advanced-regression-techniques/test.csv\")"
   ]
  },
  {
   "cell_type": "code",
   "execution_count": 3,
   "id": "2f2a2126",
   "metadata": {
    "execution": {
     "iopub.execute_input": "2023-01-02T18:03:51.439811Z",
     "iopub.status.busy": "2023-01-02T18:03:51.436825Z",
     "iopub.status.idle": "2023-01-02T18:03:51.442635Z",
     "shell.execute_reply": "2023-01-02T18:03:51.443172Z",
     "shell.execute_reply.started": "2022-02-07T16:40:40.436684Z"
    },
    "papermill": {
     "duration": 0.027939,
     "end_time": "2023-01-02T18:03:51.443352",
     "exception": false,
     "start_time": "2023-01-02T18:03:51.415413",
     "status": "completed"
    },
    "tags": []
   },
   "outputs": [
    {
     "name": "stdout",
     "output_type": "stream",
     "text": [
      "(1460, 81) (1459, 80)\n"
     ]
    }
   ],
   "source": [
    "print(train_df.shape,test_df.shape)"
   ]
  },
  {
   "cell_type": "code",
   "execution_count": 4,
   "id": "da88bcca",
   "metadata": {
    "execution": {
     "iopub.execute_input": "2023-01-02T18:03:51.485128Z",
     "iopub.status.busy": "2023-01-02T18:03:51.484159Z",
     "iopub.status.idle": "2023-01-02T18:03:51.505303Z",
     "shell.execute_reply": "2023-01-02T18:03:51.505830Z",
     "shell.execute_reply.started": "2022-02-07T16:40:40.444800Z"
    },
    "papermill": {
     "duration": 0.043713,
     "end_time": "2023-01-02T18:03:51.506056",
     "exception": false,
     "start_time": "2023-01-02T18:03:51.462343",
     "status": "completed"
    },
    "tags": []
   },
   "outputs": [],
   "source": [
    "feature_ids = test_df.pop(\"Id\")\n",
    "feature = train_df.pop(\"SalePrice\")\n",
    "big_df = pd.concat([train_df,test_df], axis=0, sort=False)"
   ]
  },
  {
   "cell_type": "code",
   "execution_count": 5,
   "id": "e9a5d896",
   "metadata": {
    "execution": {
     "iopub.execute_input": "2023-01-02T18:03:51.550295Z",
     "iopub.status.busy": "2023-01-02T18:03:51.549548Z",
     "iopub.status.idle": "2023-01-02T18:03:51.562858Z",
     "shell.execute_reply": "2023-01-02T18:03:51.563625Z",
     "shell.execute_reply.started": "2022-02-07T16:40:40.466420Z"
    },
    "papermill": {
     "duration": 0.039387,
     "end_time": "2023-01-02T18:03:51.563875",
     "exception": false,
     "start_time": "2023-01-02T18:03:51.524488",
     "status": "completed"
    },
    "tags": []
   },
   "outputs": [
    {
     "name": "stdout",
     "output_type": "stream",
     "text": [
      "MSZoning           4\n",
      "MasVnrArea        23\n",
      "MasVnrType        24\n",
      "BsmtFinType1      79\n",
      "BsmtFinType2      80\n",
      "BsmtQual          81\n",
      "BsmtExposure      82\n",
      "BsmtCond          82\n",
      "GarageType       157\n",
      "GarageFinish     159\n",
      "GarageQual       159\n",
      "GarageYrBlt      159\n",
      "GarageCond       159\n",
      "LotFrontage      486\n",
      "FireplaceQu     1420\n",
      "Id              1459\n",
      "Fence           2348\n",
      "Alley           2721\n",
      "MiscFeature     2814\n",
      "PoolQC          2909\n",
      "dtype: int64\n"
     ]
    }
   ],
   "source": [
    "print(big_df.isna().sum().sort_values(ascending=True)[-20:])"
   ]
  },
  {
   "cell_type": "code",
   "execution_count": 6,
   "id": "bc519e28",
   "metadata": {
    "execution": {
     "iopub.execute_input": "2023-01-02T18:03:51.605746Z",
     "iopub.status.busy": "2023-01-02T18:03:51.605078Z",
     "iopub.status.idle": "2023-01-02T18:03:51.608667Z",
     "shell.execute_reply": "2023-01-02T18:03:51.609314Z",
     "shell.execute_reply.started": "2022-02-07T16:40:40.485429Z"
    },
    "papermill": {
     "duration": 0.025754,
     "end_time": "2023-01-02T18:03:51.609494",
     "exception": false,
     "start_time": "2023-01-02T18:03:51.583740",
     "status": "completed"
    },
    "tags": []
   },
   "outputs": [],
   "source": [
    "#big_df.drop([\"LotFrontage\",\"FireplaceQu\",\"Fence\",\"Alley\",\"MiscFeature\",\"PoolQC\"],axis=1, inplace=True)"
   ]
  },
  {
   "cell_type": "code",
   "execution_count": 7,
   "id": "306d995e",
   "metadata": {
    "execution": {
     "iopub.execute_input": "2023-01-02T18:03:51.651368Z",
     "iopub.status.busy": "2023-01-02T18:03:51.650667Z",
     "iopub.status.idle": "2023-01-02T18:03:51.665404Z",
     "shell.execute_reply": "2023-01-02T18:03:51.664695Z",
     "shell.execute_reply.started": "2022-02-07T16:40:40.490803Z"
    },
    "papermill": {
     "duration": 0.036722,
     "end_time": "2023-01-02T18:03:51.665558",
     "exception": false,
     "start_time": "2023-01-02T18:03:51.628836",
     "status": "completed"
    },
    "tags": []
   },
   "outputs": [],
   "source": [
    "NOMINAL_COL = [\"BsmtFinType1\",\"Foundation\",\"MSSubClass\",\n",
    "               \"MSZoning\",\n",
    "               \"Street\",\n",
    "               \"LotConfig\",\n",
    "               \"Neighborhood\",\n",
    "               \"Condition1\",\n",
    "               \"Condition2\",\n",
    "               \"BldgType\",\n",
    "               \"HouseStyle\",\n",
    "               \"RoofStyle\",\n",
    "               \"RoofMatl\",\n",
    "               \"Exterior1st\",\n",
    "               \"Exterior2nd\",\n",
    "               \"MasVnrType\" ,\n",
    "                \"Heating\",\n",
    "               \"CentralAir\",\n",
    "               \"Electrical\",\n",
    "               \"Functional\",\n",
    "               \"GarageType\",\n",
    "               \"GarageFinish\",\n",
    "               \"PavedDrive\",\n",
    "               \"SaleType\", \"SaleCondition\"]\n",
    "\n",
    "numerics = ['int16', 'int32', 'int64', 'float16', 'float32', 'float64']\n",
    "ORDINAL_COL = [\"LotShape\", \"LandContour\", \"Utilities\", \"LandSlope\", \"ExterQual\", \"ExterCond\", \"BsmtQual\", \"BsmtCond\", \"BsmtExposure\", \"BsmtFinType2\", \"HeatingQC\", \"KitchenQual\", \"GarageQual\", \"GarageCond\"]\n",
    "NUMERICAL_COL = train_df.select_dtypes(include=numerics).columns.to_list()"
   ]
  },
  {
   "cell_type": "code",
   "execution_count": 8,
   "id": "d53ecf50",
   "metadata": {
    "execution": {
     "iopub.execute_input": "2023-01-02T18:03:51.708185Z",
     "iopub.status.busy": "2023-01-02T18:03:51.707165Z",
     "iopub.status.idle": "2023-01-02T18:03:51.709178Z",
     "shell.execute_reply": "2023-01-02T18:03:51.709697Z",
     "shell.execute_reply.started": "2022-02-07T16:40:40.507614Z"
    },
    "papermill": {
     "duration": 0.025559,
     "end_time": "2023-01-02T18:03:51.709867",
     "exception": false,
     "start_time": "2023-01-02T18:03:51.684308",
     "status": "completed"
    },
    "tags": []
   },
   "outputs": [],
   "source": [
    "#NUMERICAL_COL.remove([\"\"])"
   ]
  },
  {
   "cell_type": "code",
   "execution_count": 9,
   "id": "a3a1ecb9",
   "metadata": {
    "execution": {
     "iopub.execute_input": "2023-01-02T18:03:51.754461Z",
     "iopub.status.busy": "2023-01-02T18:03:51.753744Z",
     "iopub.status.idle": "2023-01-02T18:03:51.755970Z",
     "shell.execute_reply": "2023-01-02T18:03:51.756535Z",
     "shell.execute_reply.started": "2022-02-07T16:40:40.517363Z"
    },
    "papermill": {
     "duration": 0.027179,
     "end_time": "2023-01-02T18:03:51.756706",
     "exception": false,
     "start_time": "2023-01-02T18:03:51.729527",
     "status": "completed"
    },
    "tags": []
   },
   "outputs": [],
   "source": [
    "feature = np.log(feature+1)"
   ]
  },
  {
   "cell_type": "code",
   "execution_count": 10,
   "id": "382a83f2",
   "metadata": {
    "execution": {
     "iopub.execute_input": "2023-01-02T18:03:51.799845Z",
     "iopub.status.busy": "2023-01-02T18:03:51.799155Z",
     "iopub.status.idle": "2023-01-02T18:03:51.862640Z",
     "shell.execute_reply": "2023-01-02T18:03:51.863183Z",
     "shell.execute_reply.started": "2022-02-07T16:40:40.528993Z"
    },
    "papermill": {
     "duration": 0.087363,
     "end_time": "2023-01-02T18:03:51.863380",
     "exception": false,
     "start_time": "2023-01-02T18:03:51.776017",
     "status": "completed"
    },
    "tags": []
   },
   "outputs": [],
   "source": [
    "\n",
    "#X_train.at[1165,\"ExterCond\"] =\"Po\"\n",
    "\n",
    "\n",
    "for col in NOMINAL_COL:\n",
    "    big_df[col].fillna(big_df[col].mode()[0],inplace=True)\n",
    "    \n",
    "\n",
    "for col in ORDINAL_COL:\n",
    "    big_df[col].fillna(big_df[col].mode()[0],inplace=True)\n",
    "    \n",
    "for col in NUMERICAL_COL:\n",
    "    big_df[col].fillna(big_df[col].mean(),inplace=True)\n",
    "\n",
    "for col in [\"BsmtQual\",\"BsmtCond\",\"BsmtExposure\",\"BsmtFinType2\",\"GarageQual\",\"GarageCond\"]:\n",
    "    big_df[col] = big_df[col].fillna(big_df[col].mode()[0])\n",
    "    \n",
    "for col in [\"BsmtQual\",\"BsmtCond\",\"BsmtExposure\",\"BsmtFinType2\",\"GarageQual\",\"GarageCond\",\"KitchenQual\",\"Utilities\"]:\n",
    "    big_df[col] = big_df[col].fillna(big_df[col].mode()[0])\n",
    "    \n"
   ]
  },
  {
   "cell_type": "code",
   "execution_count": 11,
   "id": "0c2a3d04",
   "metadata": {
    "execution": {
     "iopub.execute_input": "2023-01-02T18:03:51.904365Z",
     "iopub.status.busy": "2023-01-02T18:03:51.903701Z",
     "iopub.status.idle": "2023-01-02T18:03:51.920682Z",
     "shell.execute_reply": "2023-01-02T18:03:51.921365Z",
     "shell.execute_reply.started": "2022-02-07T16:40:40.593068Z"
    },
    "papermill": {
     "duration": 0.039398,
     "end_time": "2023-01-02T18:03:51.921546",
     "exception": false,
     "start_time": "2023-01-02T18:03:51.882148",
     "status": "completed"
    },
    "tags": []
   },
   "outputs": [
    {
     "name": "stdout",
     "output_type": "stream",
     "text": [
      "GarageCond          0\n",
      "GarageQual          0\n",
      "GarageArea          0\n",
      "GarageCars          0\n",
      "GarageFinish        0\n",
      "GarageType          0\n",
      "TotalBsmtSF         0\n",
      "Heating             0\n",
      "BsmtFinSF2          0\n",
      "HouseStyle          0\n",
      "BldgType            0\n",
      "Condition2          0\n",
      "Condition1          0\n",
      "Neighborhood        0\n",
      "LandSlope           0\n",
      "LotConfig           0\n",
      "Utilities           0\n",
      "LandContour         0\n",
      "LotShape            0\n",
      "Street              0\n",
      "LotArea             0\n",
      "LotFrontage         0\n",
      "MSZoning            0\n",
      "MSSubClass          0\n",
      "BsmtUnfSF           0\n",
      "OverallCond         0\n",
      "OverallQual         0\n",
      "BsmtQual            0\n",
      "BsmtFinType2        0\n",
      "BsmtFinSF1          0\n",
      "BsmtFinType1        0\n",
      "BsmtExposure        0\n",
      "BsmtCond            0\n",
      "YearBuilt           0\n",
      "Foundation          0\n",
      "ExterCond           0\n",
      "SaleCondition       0\n",
      "MasVnrArea          0\n",
      "MasVnrType          0\n",
      "Exterior2nd         0\n",
      "Exterior1st         0\n",
      "RoofMatl            0\n",
      "RoofStyle           0\n",
      "YearRemodAdd        0\n",
      "ExterQual           0\n",
      "FireplaceQu      1420\n",
      "Fence            2348\n",
      "Alley            2721\n",
      "MiscFeature      2814\n",
      "PoolQC           2909\n",
      "dtype: int64\n"
     ]
    }
   ],
   "source": [
    "print(big_df.isna().sum().sort_values(ascending=True)[-50:])"
   ]
  },
  {
   "cell_type": "code",
   "execution_count": 12,
   "id": "590a714d",
   "metadata": {
    "execution": {
     "iopub.execute_input": "2023-01-02T18:03:51.966548Z",
     "iopub.status.busy": "2023-01-02T18:03:51.965290Z",
     "iopub.status.idle": "2023-01-02T18:03:51.977360Z",
     "shell.execute_reply": "2023-01-02T18:03:51.976624Z",
     "shell.execute_reply.started": "2022-02-07T16:40:40.612699Z"
    },
    "papermill": {
     "duration": 0.036897,
     "end_time": "2023-01-02T18:03:51.977514",
     "exception": false,
     "start_time": "2023-01-02T18:03:51.940617",
     "status": "completed"
    },
    "tags": []
   },
   "outputs": [],
   "source": [
    "big_df.drop([\"FireplaceQu\",\"Fence\",\"Alley\",\"MiscFeature\", \"PoolQC\"], axis=1, inplace=True)"
   ]
  },
  {
   "cell_type": "code",
   "execution_count": 13,
   "id": "0e219c30",
   "metadata": {
    "execution": {
     "iopub.execute_input": "2023-01-02T18:03:52.026718Z",
     "iopub.status.busy": "2023-01-02T18:03:52.026009Z",
     "iopub.status.idle": "2023-01-02T18:03:52.032772Z",
     "shell.execute_reply": "2023-01-02T18:03:52.033500Z",
     "shell.execute_reply.started": "2022-02-07T16:40:40.624941Z"
    },
    "papermill": {
     "duration": 0.036886,
     "end_time": "2023-01-02T18:03:52.033731",
     "exception": false,
     "start_time": "2023-01-02T18:03:51.996845",
     "status": "completed"
    },
    "tags": []
   },
   "outputs": [
    {
     "name": "stdout",
     "output_type": "stream",
     "text": [
      "Id               0\n",
      "TotRmsAbvGrd     0\n",
      "KitchenQual      0\n",
      "KitchenAbvGr     0\n",
      "BedroomAbvGr     0\n",
      "                ..\n",
      "Exterior1st      0\n",
      "RoofMatl         0\n",
      "RoofStyle        0\n",
      "YearBuilt        0\n",
      "SaleCondition    0\n",
      "Length: 75, dtype: int64\n"
     ]
    }
   ],
   "source": [
    "print(big_df.isna().sum().sort_values(ascending=True))"
   ]
  },
  {
   "cell_type": "code",
   "execution_count": 14,
   "id": "a7cac638",
   "metadata": {
    "execution": {
     "iopub.execute_input": "2023-01-02T18:03:52.076988Z",
     "iopub.status.busy": "2023-01-02T18:03:52.076312Z",
     "iopub.status.idle": "2023-01-02T18:03:52.136446Z",
     "shell.execute_reply": "2023-01-02T18:03:52.135815Z",
     "shell.execute_reply.started": "2022-02-07T16:40:40.640813Z"
    },
    "papermill": {
     "duration": 0.082389,
     "end_time": "2023-01-02T18:03:52.136608",
     "exception": false,
     "start_time": "2023-01-02T18:03:52.054219",
     "status": "completed"
    },
    "tags": []
   },
   "outputs": [],
   "source": [
    "\"\"\"\n",
    "ohe = (OneHotEncoder(handle_unknown='ignore'), \n",
    "        NOMINAL_COL)\n",
    "ode =(OrdinalEncoder(), ORDINAL_COL)\n",
    "minmax = (MinMaxScaler(), \n",
    "        train_df.select_dtypes(include=numerics).columns)\n",
    "transformer = make_column_transformer(\n",
    "    ohe,\n",
    "    ode,\n",
    "    minmax\n",
    ")\n",
    "train_df_norm = transformer.fit_transform(train_df)\"\"\"\n",
    "\n",
    "big_df_dummy = pd.get_dummies(big_df)\n",
    "\n",
    "train_df = big_df_dummy[0:1460]\n",
    "test_df = big_df_dummy[1460:]\n",
    "X_train, X_test, y_train, y_test = train_test_split(\n",
    "    train_df, feature, test_size=0.2, random_state=42\n",
    ")\n"
   ]
  },
  {
   "cell_type": "code",
   "execution_count": 15,
   "id": "68e015bf",
   "metadata": {
    "execution": {
     "iopub.execute_input": "2023-01-02T18:03:52.182295Z",
     "iopub.status.busy": "2023-01-02T18:03:52.181603Z",
     "iopub.status.idle": "2023-01-02T18:03:52.184048Z",
     "shell.execute_reply": "2023-01-02T18:03:52.184601Z",
     "shell.execute_reply.started": "2022-02-07T16:40:40.696498Z"
    },
    "papermill": {
     "duration": 0.027789,
     "end_time": "2023-01-02T18:03:52.184770",
     "exception": false,
     "start_time": "2023-01-02T18:03:52.156981",
     "status": "completed"
    },
    "tags": []
   },
   "outputs": [],
   "source": [
    "def rmse(y_true, y_pred):    \n",
    "    return K.sqrt(K.mean(K.square(y_pred - y_true)))"
   ]
  },
  {
   "cell_type": "code",
   "execution_count": 16,
   "id": "52662612",
   "metadata": {
    "execution": {
     "iopub.execute_input": "2023-01-02T18:03:52.228005Z",
     "iopub.status.busy": "2023-01-02T18:03:52.227291Z",
     "iopub.status.idle": "2023-01-02T18:03:52.234338Z",
     "shell.execute_reply": "2023-01-02T18:03:52.234892Z",
     "shell.execute_reply.started": "2022-02-07T16:40:40.702058Z"
    },
    "papermill": {
     "duration": 0.030327,
     "end_time": "2023-01-02T18:03:52.235095",
     "exception": false,
     "start_time": "2023-01-02T18:03:52.204768",
     "status": "completed"
    },
    "tags": []
   },
   "outputs": [],
   "source": [
    "y_train = np.asarray(y_train).astype(\"float32\")\n",
    "X_train = np.asarray(X_train).astype(\"float32\")"
   ]
  },
  {
   "cell_type": "code",
   "execution_count": 17,
   "id": "b8525c61",
   "metadata": {
    "execution": {
     "iopub.execute_input": "2023-01-02T18:03:52.281163Z",
     "iopub.status.busy": "2023-01-02T18:03:52.280439Z",
     "iopub.status.idle": "2023-01-02T18:05:15.029767Z",
     "shell.execute_reply": "2023-01-02T18:05:15.029133Z",
     "shell.execute_reply.started": "2022-02-07T16:40:40.714527Z"
    },
    "papermill": {
     "duration": 82.775247,
     "end_time": "2023-01-02T18:05:15.029970",
     "exception": false,
     "start_time": "2023-01-02T18:03:52.254723",
     "status": "completed"
    },
    "tags": []
   },
   "outputs": [
    {
     "name": "stderr",
     "output_type": "stream",
     "text": [
      "\n",
      "User settings:\n",
      "\n",
      "   KMP_AFFINITY=granularity=fine,noverbose,compact,1,0\n",
      "   KMP_BLOCKTIME=0\n",
      "   KMP_DUPLICATE_LIB_OK=True\n",
      "   KMP_INIT_AT_FORK=FALSE\n",
      "   KMP_SETTINGS=1\n",
      "   KMP_WARNINGS=0\n",
      "\n",
      "Effective settings:\n",
      "\n",
      "   KMP_ABORT_DELAY=0\n",
      "   KMP_ADAPTIVE_LOCK_PROPS='1,1024'\n",
      "   KMP_ALIGN_ALLOC=64\n",
      "   KMP_ALL_THREADPRIVATE=128\n",
      "   KMP_ATOMIC_MODE=2\n",
      "   KMP_BLOCKTIME=0\n",
      "   KMP_CPUINFO_FILE: value is not defined\n",
      "   KMP_DETERMINISTIC_REDUCTION=false\n",
      "   KMP_DEVICE_THREAD_LIMIT=2147483647\n",
      "   KMP_DISP_NUM_BUFFERS=7\n",
      "   KMP_DUPLICATE_LIB_OK=true\n",
      "   KMP_ENABLE_TASK_THROTTLING=true\n",
      "   KMP_FORCE_REDUCTION: value is not defined\n",
      "   KMP_FOREIGN_THREADS_THREADPRIVATE=true\n",
      "   KMP_FORKJOIN_BARRIER='2,2'\n",
      "   KMP_FORKJOIN_BARRIER_PATTERN='hyper,hyper'\n",
      "   KMP_GTID_MODE=3\n",
      "   KMP_HANDLE_SIGNALS=false\n",
      "   KMP_HOT_TEAMS_MAX_LEVEL=1\n",
      "   KMP_HOT_TEAMS_MODE=0\n",
      "   KMP_INIT_AT_FORK=true\n",
      "   KMP_LIBRARY=throughput\n",
      "   KMP_LOCK_KIND=queuing\n",
      "   KMP_MALLOC_POOL_INCR=1M\n",
      "   KMP_NUM_LOCKS_IN_BLOCK=1\n",
      "   KMP_PLAIN_BARRIER='2,2'\n",
      "   KMP_PLAIN_BARRIER_PATTERN='hyper,hyper'\n",
      "   KMP_REDUCTION_BARRIER='1,1'\n",
      "   KMP_REDUCTION_BARRIER_PATTERN='hyper,hyper'\n",
      "   KMP_SCHEDULE='static,balanced;guided,iterative'\n",
      "   KMP_SETTINGS=true\n",
      "   KMP_SPIN_BACKOFF_PARAMS='4096,100'\n",
      "   KMP_STACKOFFSET=64\n",
      "   KMP_STACKPAD=0\n",
      "   KMP_STACKSIZE=8M\n",
      "   KMP_STORAGE_MAP=false\n",
      "   KMP_TASKING=2\n",
      "   KMP_TASKLOOP_MIN_TASKS=0\n",
      "   KMP_TASK_STEALING_CONSTRAINT=1\n",
      "   KMP_TEAMS_THREAD_LIMIT=4\n",
      "   KMP_TOPOLOGY_METHOD=all\n",
      "   KMP_USE_YIELD=1\n",
      "   KMP_VERSION=false\n",
      "   KMP_WARNINGS=false\n",
      "   OMP_AFFINITY_FORMAT='OMP: pid %P tid %i thread %n bound to OS proc set {%A}'\n",
      "   OMP_ALLOCATOR=omp_default_mem_alloc\n",
      "   OMP_CANCELLATION=false\n",
      "   OMP_DEFAULT_DEVICE=0\n",
      "   OMP_DISPLAY_AFFINITY=false\n",
      "   OMP_DISPLAY_ENV=false\n",
      "   OMP_DYNAMIC=false\n",
      "   OMP_MAX_ACTIVE_LEVELS=1\n",
      "   OMP_MAX_TASK_PRIORITY=0\n",
      "   OMP_NESTED: deprecated; max-active-levels-var=1\n",
      "   OMP_NUM_THREADS: value is not defined\n",
      "   OMP_PLACES: value is not defined\n",
      "   OMP_PROC_BIND='intel'\n",
      "   OMP_SCHEDULE='static'\n",
      "   OMP_STACKSIZE=8M\n",
      "   OMP_TARGET_OFFLOAD=DEFAULT\n",
      "   OMP_THREAD_LIMIT=2147483647\n",
      "   OMP_WAIT_POLICY=PASSIVE\n",
      "   KMP_AFFINITY='noverbose,warnings,respect,granularity=fine,compact,1,0'\n",
      "\n",
      "2023-01-02 18:03:52.319093: I tensorflow/core/common_runtime/process_util.cc:146] Creating new thread pool with default inter op setting: 2. Tune using inter_op_parallelism_threads for best performance.\n",
      "2023-01-02 18:03:52.432044: I tensorflow/compiler/mlir/mlir_graph_optimization_pass.cc:185] None of the MLIR Optimization Passes are enabled (registered 2)\n"
     ]
    }
   ],
   "source": [
    "tf.random.set_seed(42)\n",
    "\n",
    "model = Sequential([\n",
    "    Dense(500, activation='relu'),\n",
    "    Dense(100, activation='relu'),\n",
    "    Dense(50, activation='relu'),\n",
    "    Dense(1)\n",
    "])\n",
    "\n",
    "model.compile(\n",
    "    loss=rmse,\n",
    "    optimizer=Adam(),\n",
    "    metrics=[rmse]\n",
    ")\n",
    "\n",
    "history = model.fit(X_train, y_train, epochs=500, verbose=0)"
   ]
  },
  {
   "cell_type": "code",
   "execution_count": 18,
   "id": "96aad51f",
   "metadata": {
    "execution": {
     "iopub.execute_input": "2023-01-02T18:05:15.080153Z",
     "iopub.status.busy": "2023-01-02T18:05:15.079448Z",
     "iopub.status.idle": "2023-01-02T18:05:15.250127Z",
     "shell.execute_reply": "2023-01-02T18:05:15.250768Z",
     "shell.execute_reply.started": "2022-02-07T16:41:22.142764Z"
    },
    "papermill": {
     "duration": 0.200872,
     "end_time": "2023-01-02T18:05:15.250968",
     "exception": false,
     "start_time": "2023-01-02T18:05:15.050096",
     "status": "completed"
    },
    "tags": []
   },
   "outputs": [
    {
     "data": {
      "image/png": "[encoded data removed]",
      "text/plain": [
       "<Figure size 432x288 with 1 Axes>"
      ]
     },
     "metadata": {
      "needs_background": "light"
     },
     "output_type": "display_data"
    }
   ],
   "source": [
    "plt.plot(history.epoch, history.history[\"loss\"], 'g', label='Training loss')\n",
    "plt.title('Training loss')\n",
    "plt.xlabel('Epochs')\n",
    "plt.ylabel('Loss')\n",
    "plt.legend()\n",
    "plt.show()"
   ]
  },
  {
   "cell_type": "code",
   "execution_count": 19,
   "id": "e4c65740",
   "metadata": {
    "execution": {
     "iopub.execute_input": "2023-01-02T18:05:15.297432Z",
     "iopub.status.busy": "2023-01-02T18:05:15.296731Z",
     "iopub.status.idle": "2023-01-02T18:05:15.533130Z",
     "shell.execute_reply": "2023-01-02T18:05:15.533819Z",
     "shell.execute_reply.started": "2022-02-07T16:41:22.324658Z"
    },
    "papermill": {
     "duration": 0.261179,
     "end_time": "2023-01-02T18:05:15.534039",
     "exception": false,
     "start_time": "2023-01-02T18:05:15.272860",
     "status": "completed"
    },
    "tags": []
   },
   "outputs": [],
   "source": [
    "results =model.predict(test_df)"
   ]
  },
  {
   "cell_type": "code",
   "execution_count": 20,
   "id": "5267147a",
   "metadata": {
    "execution": {
     "iopub.execute_input": "2023-01-02T18:05:15.579171Z",
     "iopub.status.busy": "2023-01-02T18:05:15.578486Z",
     "iopub.status.idle": "2023-01-02T18:05:15.585811Z",
     "shell.execute_reply": "2023-01-02T18:05:15.586383Z",
     "shell.execute_reply.started": "2022-02-07T16:41:22.492465Z"
    },
    "papermill": {
     "duration": 0.031515,
     "end_time": "2023-01-02T18:05:15.586570",
     "exception": false,
     "start_time": "2023-01-02T18:05:15.555055",
     "status": "completed"
    },
    "tags": []
   },
   "outputs": [],
   "source": [
    "df_results = pd.DataFrame(columns=[\"Id\",\"SalePrice\"])\n",
    "df_results[\"Id\"] = feature_ids\n",
    "df_results[\"SalePrice\"] = results"
   ]
  },
  {
   "cell_type": "code",
   "execution_count": 21,
   "id": "e19da0be",
   "metadata": {
    "execution": {
     "iopub.execute_input": "2023-01-02T18:05:15.633402Z",
     "iopub.status.busy": "2023-01-02T18:05:15.632710Z",
     "iopub.status.idle": "2023-01-02T18:05:15.635556Z",
     "shell.execute_reply": "2023-01-02T18:05:15.636036Z",
     "shell.execute_reply.started": "2022-02-07T16:41:22.501531Z"
    },
    "papermill": {
     "duration": 0.028748,
     "end_time": "2023-01-02T18:05:15.636206",
     "exception": false,
     "start_time": "2023-01-02T18:05:15.607458",
     "status": "completed"
    },
    "tags": []
   },
   "outputs": [],
   "source": [
    "df_results.set_index(\"Id\", inplace=True)"
   ]
  },
  {
   "cell_type": "code",
   "execution_count": 22,
   "id": "750e7ea3",
   "metadata": {
    "execution": {
     "iopub.execute_input": "2023-01-02T18:05:15.682405Z",
     "iopub.status.busy": "2023-01-02T18:05:15.681443Z",
     "iopub.status.idle": "2023-01-02T18:05:15.689963Z",
     "shell.execute_reply": "2023-01-02T18:05:15.689033Z",
     "shell.execute_reply.started": "2022-02-07T16:41:22.512990Z"
    },
    "papermill": {
     "duration": 0.032977,
     "end_time": "2023-01-02T18:05:15.690155",
     "exception": false,
     "start_time": "2023-01-02T18:05:15.657178",
     "status": "completed"
    },
    "tags": []
   },
   "outputs": [
    {
     "name": "stdout",
     "output_type": "stream",
     "text": [
      "      SalePrice\n",
      "Id             \n",
      "1461  11.877271\n",
      "1462  10.543315\n",
      "1463  12.356919\n",
      "1464  12.386334\n",
      "1465  12.222598\n",
      "...         ...\n",
      "2915  11.206903\n",
      "2916  11.369952\n",
      "2917  12.210258\n",
      "2918  11.769248\n",
      "2919  12.485459\n",
      "\n",
      "[1459 rows x 1 columns]\n"
     ]
    }
   ],
   "source": [
    "print(df_results)"
   ]
  },
  {
   "cell_type": "code",
   "execution_count": 23,
   "id": "e1b1f99e",
   "metadata": {
    "execution": {
     "iopub.execute_input": "2023-01-02T18:05:15.738350Z",
     "iopub.status.busy": "2023-01-02T18:05:15.737409Z",
     "iopub.status.idle": "2023-01-02T18:05:15.746071Z",
     "shell.execute_reply": "2023-01-02T18:05:15.745404Z",
     "shell.execute_reply.started": "2022-02-07T16:43:15.337675Z"
    },
    "papermill": {
     "duration": 0.034105,
     "end_time": "2023-01-02T18:05:15.746213",
     "exception": false,
     "start_time": "2023-01-02T18:05:15.712108",
     "status": "completed"
    },
    "tags": []
   },
   "outputs": [],
   "source": [
    "df_results.to_csv(\"Submission10.csv\")"
   ]
  },
  {
   "cell_type": "code",
   "execution_count": null,
   "id": "2c8efd2e",
   "metadata": {
    "papermill": {
     "duration": 0.020784,
     "end_time": "2023-01-02T18:05:15.787863",
     "exception": false,
     "start_time": "2023-01-02T18:05:15.767079",
     "status": "completed"
    },
    "tags": []
   },
   "outputs": [],
   "source": []
  }
 ],
 "metadata": {
  "kernelspec": {
   "display_name": "Python 3",
   "language": "python",
   "name": "python3"
  },
  "language_info": {
   "codemirror_mode": {
    "name": "ipython",
    "version": 3
   },
   "file_extension": ".py",
   "mimetype": "text/x-python",
   "name": "python",
   "nbconvert_exporter": "python",
   "pygments_lexer": "ipython3",
   "version": "3.7.12"
  },
  "papermill": {
   "default_parameters": {},
   "duration": 103.650697,
   "end_time": "2023-01-02T18:05:18.520213",
   "environment_variables": {},
   "exception": null,
   "input_path": "__notebook__.ipynb",
   "output_path": "__notebook__.ipynb",
   "parameters": {},
   "start_time": "2023-01-02T18:03:34.869516",
   "version": "2.3.3"
  }
 },
 "nbformat": 4,
 "nbformat_minor": 5
}
